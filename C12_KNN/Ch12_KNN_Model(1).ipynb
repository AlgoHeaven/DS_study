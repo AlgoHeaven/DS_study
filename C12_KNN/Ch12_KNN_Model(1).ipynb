{
  "nbformat": 4,
  "nbformat_minor": 0,
  "metadata": {
    "colab": {
      "name": "12장_KNN(12_1).ipynb",
      "provenance": [],
      "collapsed_sections": []
    },
    "kernelspec": {
      "name": "python3",
      "display_name": "Python 3"
    }
  },
  "cells": [
    {
      "cell_type": "markdown",
      "metadata": {
        "id": "7griILFqpNYu",
        "colab_type": "text"
      },
      "source": [
        "# 12.1 모델\n",
        "---"
      ]
    },
    {
      "cell_type": "markdown",
      "metadata": {
        "id": "M9WjZ3u3pUlZ",
        "colab_type": "text"
      },
      "source": [
        "- knn은 지도 학습이며 분류(classification)에 사용\n",
        "- 새로운 데이터가 기존 데이터의 그룹 중 어떤 그룹에 속하는지를 분류"
      ]
    },
    {
      "cell_type": "code",
      "metadata": {
        "id": "GZdTAOB5BCLA",
        "colab_type": "code",
        "colab": {}
      },
      "source": [
        "# 거리 계산용 function들\n",
        "import math\n",
        "from collections import Counter\n",
        "\n",
        "def subtract(v, w):\n",
        "    \"\"\"Subtracts corresponding elements\"\"\"\n",
        "    assert len(v) == len(w), \"vectors must be the same length\"\n",
        "\n",
        "    return [v_i - w_i for v_i, w_i in zip(v, w)]\n",
        "\n",
        "def dot(v, w):\n",
        "    \"\"\"Computes v_1 * w_1 + ... + v_n * w_n\"\"\"\n",
        "    assert len(v) == len(w), \"vectors must be same length\"\n",
        "\n",
        "    return sum(v_i * w_i for v_i, w_i in zip(v, w))\n",
        "\n",
        "assert dot([1, 2, 3], [4, 5, 6]) == 32  # 1 * 4 + 2 * 5 + 3 * 6\n",
        "\n",
        "def sum_of_squares(v):\n",
        "    \"\"\"Returns v_1 * v_1 + ... + v_n * v_n\"\"\"\n",
        "    return dot(v, v)\n",
        "\n",
        "assert sum_of_squares([1, 2, 3]) == 14  # 1 * 1 + 2 * 2 + 3 * 3\n",
        "\n",
        "def magnitude(v):\n",
        "    \"\"\"Returns the magnitude (or length) of v\"\"\"\n",
        "    return math.sqrt(sum_of_squares(v))   # math.sqrt is square root function\n",
        "\n",
        "assert magnitude([3, 4]) == 5\n",
        "\n",
        "def squared_distance(v, w):\n",
        "    \"\"\"Computes (v_1 - w_1) ** 2 + ... + (v_n - w_n) ** 2\"\"\"\n",
        "    return sum_of_squares(subtract(v, w))\n",
        "\n",
        "def distance(v, w):\n",
        "    \"\"\"Computes the distance between v and w\"\"\"\n",
        "    return math.sqrt(squared_distance(v, w))\n",
        "\n",
        "def distance(v, w):  # type: ignore\n",
        "    return magnitude(subtract(v, w))"
      ],
      "execution_count": 0,
      "outputs": []
    },
    {
      "cell_type": "markdown",
      "metadata": {
        "id": "A0i3FSPboSo1",
        "colab_type": "text"
      },
      "source": [
        "## knn 진행 과정\n",
        "1. 새로운 데이터 포인트 주위로 k 개의 가장 가까운 포인트를 찾는다.\n",
        "2. 찾아낸 포인트들의 label 을 보고 다수결로 새로운 데이터 포인트의 label을 정한다\n",
        "  - 동점인 항목들에 대한 처리가 문제\n",
        "    1. 여러 1등 중 임의로 하나를 선택\n",
        "    2. 거리를 가중치로 사용하여 거리 기반 투표\n",
        "    3. 단독 1등이 생길 때 까지 k를 하나씩 줄인다\n",
        "\n"
      ]
    },
    {
      "cell_type": "code",
      "metadata": {
        "id": "DUQtpLZho9YD",
        "colab_type": "code",
        "colab": {}
      },
      "source": [
        "def raw_majority_vote(labels): # 동점이 생길 수 있는 다수결 투표\n",
        "  votes = Counter(labels)\n",
        "  winner, _ = votes.most_common(1)[0]\n",
        "  return winner\n",
        "\n",
        "def majority_vote(labels): # winner 가 하나 남을 때 까지 k를 줄이는 다수결 투표\n",
        "  vote_counts = Counter(labels)\n",
        "  winner, winner_count = vote_counts.most_common(1)[0]\n",
        "  num_winners = len([count for count in vote_counts.values() if count == winner_count])\n",
        "  if num_winners == 1:\n",
        "    return winner\n",
        "  else:\n",
        "    return majority_vote"
      ],
      "execution_count": 0,
      "outputs": []
    },
    {
      "cell_type": "code",
      "metadata": {
        "id": "1Ihw3msLGDN8",
        "colab_type": "code",
        "colab": {}
      },
      "source": [
        "from typing import NamedTuple\n",
        "from typing import List\n",
        "\n",
        "Vector = List[float]\n",
        "\n",
        "class LabeledPoint(NamedTuple):\n",
        "    point: Vector\n",
        "    label: str"
      ],
      "execution_count": 0,
      "outputs": []
    },
    {
      "cell_type": "code",
      "metadata": {
        "id": "HHfnwrvyq2cf",
        "colab_type": "code",
        "colab": {}
      },
      "source": [
        "def knn_classify(k, labeled_points, new_point):\n",
        "  by_distance = sorted(labeled_points, key=lambda lp: distance(lp.point, new_point))\n",
        "  k_nearest_labels = [lp.point for lp in by_distance[:k]]\n",
        "  return majority_vote(k_nearest_labels)"
      ],
      "execution_count": 0,
      "outputs": []
    },
    {
      "cell_type": "code",
      "metadata": {
        "id": "IAk4Nf9JPvT9",
        "colab_type": "code",
        "colab": {
          "base_uri": "https://localhost:8080/",
          "height": 187
        },
        "outputId": "5e14d20d-48d8-4d89-c811-6ea7d1a4e7c4"
      },
      "source": [
        "from sklearn.datasets import load_iris\n",
        "\n",
        "iris = load_iris()\n",
        "iris_data = iris.data.tolist()\n",
        "\n",
        "for i in range(len(iris.target)):\n",
        "  iris_data[i].append(iris.target_names[iris.target[i]])\n",
        "iris_data[:10]"
      ],
      "execution_count": 100,
      "outputs": [
        {
          "output_type": "execute_result",
          "data": {
            "text/plain": [
              "[[5.1, 3.5, 1.4, 0.2, 'setosa'],\n",
              " [4.9, 3.0, 1.4, 0.2, 'setosa'],\n",
              " [4.7, 3.2, 1.3, 0.2, 'setosa'],\n",
              " [4.6, 3.1, 1.5, 0.2, 'setosa'],\n",
              " [5.0, 3.6, 1.4, 0.2, 'setosa'],\n",
              " [5.4, 3.9, 1.7, 0.4, 'setosa'],\n",
              " [4.6, 3.4, 1.4, 0.3, 'setosa'],\n",
              " [5.0, 3.4, 1.5, 0.2, 'setosa'],\n",
              " [4.4, 2.9, 1.4, 0.2, 'setosa'],\n",
              " [4.9, 3.1, 1.5, 0.1, 'setosa']]"
            ]
          },
          "metadata": {
            "tags": []
          },
          "execution_count": 100
        }
      ]
    },
    {
      "cell_type": "code",
      "metadata": {
        "id": "_nV8pmW7JFh9",
        "colab_type": "code",
        "colab": {
          "base_uri": "https://localhost:8080/",
          "height": 265
        },
        "outputId": "f274db2b-e44f-4d37-8b3a-38fca28341d2"
      },
      "source": [
        "from typing import Dict\n",
        "import csv\n",
        "from collections import defaultdict\n",
        "\n",
        "def parse_iris_row(row: List[str]) -> LabeledPoint:\n",
        "    \"\"\"\n",
        "    sepal_length, sepal_width, petal_length, petal_width, class\n",
        "    \"\"\"\n",
        "    measurements = [float(value) for value in row[:-1]]\n",
        "    label = row[-1]\n",
        "\n",
        "    return LabeledPoint(measurements, label)\n",
        "\n",
        "iris_data = [parse_iris_row(row) for row in iris_data]\n",
        "\n",
        "points_by_species: Dict[str, List[Vector]] = defaultdict(list)\n",
        "for iris in iris_data:\n",
        "    points_by_species[iris.label].append(iris.point)\n",
        "\n",
        "from matplotlib import pyplot as plt\n",
        "metrics = ['sepal length', 'sepal width', 'petal length', 'petal width']\n",
        "pairs = [(i, j) for i in range(4) for j in range(4) if i < j]\n",
        "marks = ['+', '.', 'x']\n",
        "\n",
        "fig, ax = plt.subplots(2, 3)\n",
        "\n",
        "for row in range(2):\n",
        "    for col in range(3):\n",
        "        i, j = pairs[3 * row + col]\n",
        "        ax[row][col].set_title(f\"{metrics[i]} vs {metrics[j]}\", fontsize=8)\n",
        "        ax[row][col].set_xticks([])\n",
        "        ax[row][col].set_yticks([])\n",
        "\n",
        "        for mark, (species, points) in zip(marks, points_by_species.items()):\n",
        "            xs = [point[i] for point in points]\n",
        "            ys = [point[j] for point in points]\n",
        "            ax[row][col].scatter(xs, ys, marker=mark, label=species)\n",
        "\n",
        "ax[-1][-1].legend(loc='lower right', prop={'size': 6})\n",
        "plt.show()"
      ],
      "execution_count": 101,
      "outputs": [
        {
          "output_type": "display_data",
          "data": {
            "image/png": "[encoded data removed]",
            "text/plain": [
              "<Figure size 432x288 with 6 Axes>"
            ]
          },
          "metadata": {
            "tags": []
          }
        }
      ]
    },
    {
      "cell_type": "code",
      "metadata": {
        "id": "EpzCbB4GO4DA",
        "colab_type": "code",
        "colab": {
          "base_uri": "https://localhost:8080/",
          "height": 307
        },
        "outputId": "1f197a2f-62be-4aeb-af8a-de57ab3d31e5"
      },
      "source": [
        "knn_classify(3, iris_data, [5.1, 3.5, 1.4, 0.2])"
      ],
      "execution_count": 129,
      "outputs": [
        {
          "output_type": "error",
          "ename": "TypeError",
          "evalue": "ignored",
          "traceback": [
            "\u001b[0;31m---------------------------------------------------------------------------\u001b[0m",
            "\u001b[0;31mTypeError\u001b[0m                                 Traceback (most recent call last)",
            "\u001b[0;32m<ipython-input-129-1004af7b040f>\u001b[0m in \u001b[0;36m<module>\u001b[0;34m()\u001b[0m\n\u001b[0;32m----> 1\u001b[0;31m \u001b[0mknn_classify\u001b[0m\u001b[0;34m(\u001b[0m\u001b[0;36m3\u001b[0m\u001b[0;34m,\u001b[0m \u001b[0miris_data\u001b[0m\u001b[0;34m,\u001b[0m \u001b[0;34m[\u001b[0m\u001b[0;36m5.1\u001b[0m\u001b[0;34m,\u001b[0m \u001b[0;36m3.5\u001b[0m\u001b[0;34m,\u001b[0m \u001b[0;36m1.4\u001b[0m\u001b[0;34m,\u001b[0m \u001b[0;36m0.2\u001b[0m\u001b[0;34m]\u001b[0m\u001b[0;34m)\u001b[0m\u001b[0;34m\u001b[0m\u001b[0;34m\u001b[0m\u001b[0m\n\u001b[0m",
            "\u001b[0;32m<ipython-input-10-e2c1dcf040a9>\u001b[0m in \u001b[0;36mknn_classify\u001b[0;34m(k, labeled_points, new_point)\u001b[0m\n\u001b[1;32m      2\u001b[0m   \u001b[0mby_distance\u001b[0m \u001b[0;34m=\u001b[0m \u001b[0msorted\u001b[0m\u001b[0;34m(\u001b[0m\u001b[0mlabeled_points\u001b[0m\u001b[0;34m,\u001b[0m \u001b[0mkey\u001b[0m\u001b[0;34m=\u001b[0m\u001b[0;32mlambda\u001b[0m \u001b[0mlp\u001b[0m\u001b[0;34m:\u001b[0m \u001b[0mdistance\u001b[0m\u001b[0;34m(\u001b[0m\u001b[0mlp\u001b[0m\u001b[0;34m.\u001b[0m\u001b[0mpoint\u001b[0m\u001b[0;34m,\u001b[0m \u001b[0mnew_point\u001b[0m\u001b[0;34m)\u001b[0m\u001b[0;34m)\u001b[0m\u001b[0;34m\u001b[0m\u001b[0;34m\u001b[0m\u001b[0m\n\u001b[1;32m      3\u001b[0m   \u001b[0mk_nearest_labels\u001b[0m \u001b[0;34m=\u001b[0m \u001b[0;34m[\u001b[0m\u001b[0mlp\u001b[0m\u001b[0;34m.\u001b[0m\u001b[0mpoint\u001b[0m \u001b[0;32mfor\u001b[0m \u001b[0mlp\u001b[0m \u001b[0;32min\u001b[0m \u001b[0mby_distance\u001b[0m\u001b[0;34m[\u001b[0m\u001b[0;34m:\u001b[0m\u001b[0mk\u001b[0m\u001b[0;34m]\u001b[0m\u001b[0;34m]\u001b[0m\u001b[0;34m\u001b[0m\u001b[0;34m\u001b[0m\u001b[0m\n\u001b[0;32m----> 4\u001b[0;31m   \u001b[0;32mreturn\u001b[0m \u001b[0mmajority_vote\u001b[0m\u001b[0;34m(\u001b[0m\u001b[0mk_nearest_labels\u001b[0m\u001b[0;34m)\u001b[0m\u001b[0;34m\u001b[0m\u001b[0;34m\u001b[0m\u001b[0m\n\u001b[0m",
            "\u001b[0;32m<ipython-input-9-96239e4ca527>\u001b[0m in \u001b[0;36mmajority_vote\u001b[0;34m(labels)\u001b[0m\n\u001b[1;32m      1\u001b[0m \u001b[0;32mdef\u001b[0m \u001b[0mmajority_vote\u001b[0m\u001b[0;34m(\u001b[0m\u001b[0mlabels\u001b[0m\u001b[0;34m)\u001b[0m\u001b[0;34m:\u001b[0m\u001b[0;34m\u001b[0m\u001b[0;34m\u001b[0m\u001b[0m\n\u001b[0;32m----> 2\u001b[0;31m   \u001b[0mvote_counts\u001b[0m \u001b[0;34m=\u001b[0m \u001b[0mCounter\u001b[0m\u001b[0;34m(\u001b[0m\u001b[0mlabels\u001b[0m\u001b[0;34m)\u001b[0m\u001b[0;34m\u001b[0m\u001b[0;34m\u001b[0m\u001b[0m\n\u001b[0m\u001b[1;32m      3\u001b[0m   \u001b[0mwinner\u001b[0m\u001b[0;34m,\u001b[0m \u001b[0mwinner_count\u001b[0m \u001b[0;34m=\u001b[0m \u001b[0mvote_counts\u001b[0m\u001b[0;34m.\u001b[0m\u001b[0mmost_common\u001b[0m\u001b[0;34m(\u001b[0m\u001b[0;36m1\u001b[0m\u001b[0;34m)\u001b[0m\u001b[0;34m[\u001b[0m\u001b[0;36m0\u001b[0m\u001b[0;34m]\u001b[0m\u001b[0;34m\u001b[0m\u001b[0;34m\u001b[0m\u001b[0m\n\u001b[1;32m      4\u001b[0m   \u001b[0mnum_winners\u001b[0m \u001b[0;34m=\u001b[0m \u001b[0mlen\u001b[0m\u001b[0;34m(\u001b[0m\u001b[0;34m[\u001b[0m\u001b[0mcount\u001b[0m \u001b[0;32mfor\u001b[0m \u001b[0mcount\u001b[0m \u001b[0;32min\u001b[0m \u001b[0mvote_counts\u001b[0m\u001b[0;34m.\u001b[0m\u001b[0mvalues\u001b[0m\u001b[0;34m(\u001b[0m\u001b[0;34m)\u001b[0m \u001b[0;32mif\u001b[0m \u001b[0mcount\u001b[0m \u001b[0;34m==\u001b[0m \u001b[0mwinner_count\u001b[0m\u001b[0;34m]\u001b[0m\u001b[0;34m)\u001b[0m\u001b[0;34m\u001b[0m\u001b[0;34m\u001b[0m\u001b[0m\n\u001b[1;32m      5\u001b[0m   \u001b[0;32mif\u001b[0m \u001b[0mnum_winners\u001b[0m \u001b[0;34m==\u001b[0m \u001b[0;36m1\u001b[0m\u001b[0;34m:\u001b[0m\u001b[0;34m\u001b[0m\u001b[0;34m\u001b[0m\u001b[0m\n",
            "\u001b[0;32m/usr/lib/python3.6/collections/__init__.py\u001b[0m in \u001b[0;36m__init__\u001b[0;34m(*args, **kwds)\u001b[0m\n\u001b[1;32m    533\u001b[0m             \u001b[0;32mraise\u001b[0m \u001b[0mTypeError\u001b[0m\u001b[0;34m(\u001b[0m\u001b[0;34m'expected at most 1 arguments, got %d'\u001b[0m \u001b[0;34m%\u001b[0m \u001b[0mlen\u001b[0m\u001b[0;34m(\u001b[0m\u001b[0margs\u001b[0m\u001b[0;34m)\u001b[0m\u001b[0;34m)\u001b[0m\u001b[0;34m\u001b[0m\u001b[0;34m\u001b[0m\u001b[0m\n\u001b[1;32m    534\u001b[0m         \u001b[0msuper\u001b[0m\u001b[0;34m(\u001b[0m\u001b[0mCounter\u001b[0m\u001b[0;34m,\u001b[0m \u001b[0mself\u001b[0m\u001b[0;34m)\u001b[0m\u001b[0;34m.\u001b[0m\u001b[0m__init__\u001b[0m\u001b[0;34m(\u001b[0m\u001b[0;34m)\u001b[0m\u001b[0;34m\u001b[0m\u001b[0;34m\u001b[0m\u001b[0m\n\u001b[0;32m--> 535\u001b[0;31m         \u001b[0mself\u001b[0m\u001b[0;34m.\u001b[0m\u001b[0mupdate\u001b[0m\u001b[0;34m(\u001b[0m\u001b[0;34m*\u001b[0m\u001b[0margs\u001b[0m\u001b[0;34m,\u001b[0m \u001b[0;34m**\u001b[0m\u001b[0mkwds\u001b[0m\u001b[0;34m)\u001b[0m\u001b[0;34m\u001b[0m\u001b[0;34m\u001b[0m\u001b[0m\n\u001b[0m\u001b[1;32m    536\u001b[0m \u001b[0;34m\u001b[0m\u001b[0m\n\u001b[1;32m    537\u001b[0m     \u001b[0;32mdef\u001b[0m \u001b[0m__missing__\u001b[0m\u001b[0;34m(\u001b[0m\u001b[0mself\u001b[0m\u001b[0;34m,\u001b[0m \u001b[0mkey\u001b[0m\u001b[0;34m)\u001b[0m\u001b[0;34m:\u001b[0m\u001b[0;34m\u001b[0m\u001b[0;34m\u001b[0m\u001b[0m\n",
            "\u001b[0;32m/usr/lib/python3.6/collections/__init__.py\u001b[0m in \u001b[0;36mupdate\u001b[0;34m(*args, **kwds)\u001b[0m\n\u001b[1;32m    620\u001b[0m                     \u001b[0msuper\u001b[0m\u001b[0;34m(\u001b[0m\u001b[0mCounter\u001b[0m\u001b[0;34m,\u001b[0m \u001b[0mself\u001b[0m\u001b[0;34m)\u001b[0m\u001b[0;34m.\u001b[0m\u001b[0mupdate\u001b[0m\u001b[0;34m(\u001b[0m\u001b[0miterable\u001b[0m\u001b[0;34m)\u001b[0m \u001b[0;31m# fast path when counter is empty\u001b[0m\u001b[0;34m\u001b[0m\u001b[0;34m\u001b[0m\u001b[0m\n\u001b[1;32m    621\u001b[0m             \u001b[0;32melse\u001b[0m\u001b[0;34m:\u001b[0m\u001b[0;34m\u001b[0m\u001b[0;34m\u001b[0m\u001b[0m\n\u001b[0;32m--> 622\u001b[0;31m                 \u001b[0m_count_elements\u001b[0m\u001b[0;34m(\u001b[0m\u001b[0mself\u001b[0m\u001b[0;34m,\u001b[0m \u001b[0miterable\u001b[0m\u001b[0;34m)\u001b[0m\u001b[0;34m\u001b[0m\u001b[0;34m\u001b[0m\u001b[0m\n\u001b[0m\u001b[1;32m    623\u001b[0m         \u001b[0;32mif\u001b[0m \u001b[0mkwds\u001b[0m\u001b[0;34m:\u001b[0m\u001b[0;34m\u001b[0m\u001b[0;34m\u001b[0m\u001b[0m\n\u001b[1;32m    624\u001b[0m             \u001b[0mself\u001b[0m\u001b[0;34m.\u001b[0m\u001b[0mupdate\u001b[0m\u001b[0;34m(\u001b[0m\u001b[0mkwds\u001b[0m\u001b[0;34m)\u001b[0m\u001b[0;34m\u001b[0m\u001b[0;34m\u001b[0m\u001b[0m\n",
            "\u001b[0;31mTypeError\u001b[0m: unhashable type: 'list'"
          ]
        }
      ]
    }
  ]
}