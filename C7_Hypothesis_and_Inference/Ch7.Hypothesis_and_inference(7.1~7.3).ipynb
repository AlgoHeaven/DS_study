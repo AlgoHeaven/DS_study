{
 "cells": [
  {
   "cell_type": "markdown",
   "metadata": {},
   "source": [
    "# 7장. 가설과 추론"
   ]
  },
  {
   "cell_type": "markdown",
   "metadata": {},
   "source": [
    "#### 7-1. 통계적 가설 검정\n",
    "1. 가설(Hypothesis): 'A는 B일 것이다' 라는 형식의 Suggestion.\n",
    "        - 통계의 관점에서의 가설: 다양한 가정하에서 특정 분포에 대한 확률변수의 관측치.\n",
    "2. 고전적인 가설 검정의 프로세스 \n",
    "        - 귀무가설(H0, Null hypothesis): 기본적인 가설 \n",
    "        - 대립가설(H1, Alternative hypothesis): 비교하고 싶은 가설\n",
    "          ==> H0과 H1을 통계를 사용해서 비교하고, H0을 기각할지 말지를 결정함."
   ]
  },
  {
   "cell_type": "markdown",
   "metadata": {},
   "source": [
    "#### 7-2. 동전 던지기 예시\n",
    "1. 가정\n",
    "    - 동전이 공평한 동전인지 아닌지가 검정하고 싶고, 한 동전의 앞면이 나올 확률이 p라고 할 때,\n",
    "    - 귀무가설(H0): p = 0.5 이다.\n",
    "    - 대립가설(H1): p != 0.5 이다.\n",
    "2. 검정 진행\n",
    "    - Trial: 동전을 n번 던져서 앞면이 나온 횟수 X를 센다.\n",
    "      * 이 때, 동전던지기는 각각 베르누이 분포를 따름(= X는 이항분포를 따르는 확률변수)"
   ]
  },
  {
   "cell_type": "code",
   "execution_count": 4,
   "metadata": {},
   "outputs": [],
   "source": [
    "#필요한 모듈, 함수 불러오기 \n",
    "import math, random\n",
    "\n",
    "#누적분포함수(Ch6. 확률)\n",
    "def normal_cdf(x, mu=0,sigma=1):\n",
    "    return (1 + math.erf((x - mu) / math.sqrt(2) / sigma)) / 2\n",
    "\n",
    "#누적분포함수의 역함수(Ch6. 확률)\n",
    "def inverse_normal_cdf(p, mu=0, sigma=1, tolerance=0.00001): #tolerance = 공차\n",
    "    \"\"\"find approximate inverse using binary search\"\"\"\n",
    "\n",
    "    # if not standard, compute standard and rescale\n",
    "    if mu != 0 or sigma != 1:\n",
    "        return mu + sigma * inverse_normal_cdf(p, tolerance=tolerance)\n",
    "\n",
    "    low_z, low_p = -10.0, 0            # normal_cdf(-10) is (very close to) 0\n",
    "    hi_z,  hi_p  =  10.0, 1            # normal_cdf(10)  is (very close to) 1\n",
    "    while hi_z - low_z > tolerance:\n",
    "        mid_z = (low_z + hi_z) / 2     # consider the midpoint\n",
    "        mid_p = normal_cdf(mid_z)      # and the cdf's value there\n",
    "        if mid_p < p:\n",
    "            # midpoint is still too low, search above it\n",
    "            low_z, low_p = mid_z, mid_p\n",
    "        elif mid_p > p:\n",
    "            # midpoint is still too high, search below it\n",
    "            hi_z, hi_p = mid_z, mid_p\n",
    "        else:\n",
    "            break\n",
    "\n",
    "    return mid_z"
   ]
  },
  {
   "cell_type": "code",
   "execution_count": 5,
   "metadata": {},
   "outputs": [
    {
     "name": "stdout",
     "output_type": "stream",
     "text": [
      "(50.0, 5.0)\n"
     ]
    }
   ],
   "source": [
    "def normal_approximation_to_binomial(n, p):\n",
    "    \"\"\"Binomial(n, p)에 해당되는 평균과 표준편차 계산\"\"\"\n",
    "    mu = p * n  #평균\n",
    "    sigma = math.sqrt(p * (1 - p) * n) #표준편차\n",
    "    return mu, sigma\n",
    "\n",
    "print(normal_approximation_to_binomial(100, 0.5))"
   ]
  },
  {
   "cell_type": "markdown",
   "metadata": {},
   "source": [
    "* 확률변수가 정규분포를 따른다는 가정 하에, normal_cdf를 사용하여 실제 동전 던지기로부터 얻은 값이 구간 안 또는 밖에 존재할 확률을 계산할 수 있다."
   ]
  },
  {
   "cell_type": "code",
   "execution_count": 6,
   "metadata": {},
   "outputs": [],
   "source": [
    "#누적분포함수: 확률변수가 특정 값보다 작을 확률을 나타냄.\n",
    "normal_probability_below = normal_cdf"
   ]
  },
  {
   "cell_type": "code",
   "execution_count": 7,
   "metadata": {},
   "outputs": [],
   "source": [
    "# it's above the threshold if it's not below the threshold\n",
    "# 만약 확률변수가 특정 값(threshold)보다 작지 않다면, 특정 값보다 크다는 의미이다.\n",
    "def normal_probability_above(lo, mu=0, sigma=1):\n",
    "    return 1 - normal_cdf(lo, mu, sigma)\n",
    "\n",
    "# it's between if it's less than hi, but not less than lo\n",
    "# 만약 확률변수가 hi보다 작고 lo보다 작지 않다면, 확률변수는 hi와 lo 사이에 존재함.\n",
    "def normal_probability_between(lo, hi, mu=0, sigma=1):\n",
    "    return normal_cdf(hi, mu, sigma) - normal_cdf(lo, mu, sigma)\n",
    "\n",
    "# it's outside if it's not between\n",
    "# 확률변수가 범위 밖에 존재한다면, 범위 안에 존재하지 않다는 의미이다.\n",
    "def normal_probability_outside(lo, hi, mu=0, sigma=1):\n",
    "    return 1 - normal_probability_between(lo, hi, mu, sigma)"
   ]
  },
  {
   "cell_type": "markdown",
   "metadata": {},
   "source": [
    "* 이와 반대로, 확률이 주어졌을 때 평균을 중심으로 하는 대칭적인 구간을 구할 수 있음.\n",
    "  - 만약 분포의 60%를 차지하는 평균 중심의 구간을 구하고 싶다면, 양쪽 꼬리 부분이 각각 분포의 20%를 차지하는 지점을 구하면 된다."
   ]
  },
  {
   "cell_type": "code",
   "execution_count": 8,
   "metadata": {},
   "outputs": [],
   "source": [
    "#만약 분포의 60%를 차지하는 평균 중심의 구간을 구하고 싶다면, 양쪽 꼬리 부분이 각각 분포의 20%를 차지하는 지점을 구하면 된다.\n",
    "\n",
    "def normal_upper_bound(probability, mu=0, sigma=1):\n",
    "    \"\"\"P(Z <= z) = probability인 z 값을 변환\"\"\"\n",
    "    return inverse_normal_cdf(probability, mu, sigma)\n",
    "\n",
    "def normal_lower_bound(probability, mu=0, sigma=1):\n",
    "    \"\"\"P(Z >= z) = probability인 z 값을 변환\"\"\"\n",
    "    return inverse_normal_cdf(1 - probability, mu, sigma)\n",
    "\n",
    "def normal_two_sided_bounds(probability, mu=0, sigma=1):\n",
    "    \"\"\"입력한 probability(확률)값을 포함하고, 평균을 중심으로 대칭적인 구간을 반환\"\"\"\n",
    "    tail_probability = (1 - probability) / 2\n",
    "\n",
    "    # upper bound should have tail_probability above it\n",
    "    # 구간의 상한은 taiL_probability 값 이상의 확률 값을 갖고 있음.\n",
    "    upper_bound = normal_lower_bound(tail_probability, mu, sigma)\n",
    "\n",
    "    # lower bound should have tail_probability below it\n",
    "    # 구간의 하한은 taiL_probability 값 이하의 확률 값을 갖고 있음.\n",
    "    lower_bound = normal_upper_bound(tail_probability, mu, sigma)\n",
    "\n",
    "    return lower_bound, upper_bound"
   ]
  },
  {
   "cell_type": "markdown",
   "metadata": {},
   "source": [
    "* 실제로 동전을 1000번 던질 때(n=1000), 동전이 공평하다는 가설이 맞다면, X는 대략 평균이 500이고 표준편차가 15.8인 정규분포를 따름."
   ]
  },
  {
   "cell_type": "code",
   "execution_count": 9,
   "metadata": {},
   "outputs": [
    {
     "name": "stdout",
     "output_type": "stream",
     "text": [
      "500.0 15.811388300841896\n"
     ]
    }
   ],
   "source": [
    "mu_0, sigma_0 = normal_approximation_to_binomial(1000, 0.5)\n",
    "\n",
    "print(mu_0, sigma_0)"
   ]
  },
  {
   "cell_type": "markdown",
   "metadata": {},
   "source": [
    "* 유의수준과 1종 오류의 개념\n",
    "    - 유의수준(significance): 1종 오류를 얼마나 허용할지에 대한 한도\n",
    "    - 1종 오류: 비록 H0가 참이지만 H0를 기각하는 가양성(false positive) 오류.\n",
    "    - 2종 오류: 비록 H0가 거짓이지만 H0를 채택하는 오류.\n",
    "    - significance는 보통 5%나 1%로 설정한다."
   ]
  },
  {
   "cell_type": "code",
   "execution_count": 18,
   "metadata": {},
   "outputs": [
    {
     "data": {
      "text/plain": [
       "(469.01026640487555, 530.9897335951244)"
      ]
     },
     "execution_count": 18,
     "metadata": {},
     "output_type": "execute_result"
    }
   ],
   "source": [
    "#1종 오류\n",
    "#다음 코드로부터 X가 주어진 범위를 벗어나면 귀무가설 H0를 기각하는 가설 검정을 생각해 보자.\n",
    "normal_two_sided_bounds(0.95, mu_0, sigma_0)\n",
    "\n",
    "#유의수준은 5%라고 가정해 보자.\n",
    "#만약 p=0.5라면, 즉 H0가 참이라면 X가 주어진 범위를 벗어날 확률은 5%일 것이다.\n",
    "#즉, 만약 H0가 참이라면 이 가설검정 중 20번에 19번은 올바른 결과가 나올 것이다."
   ]
  },
  {
   "cell_type": "code",
   "execution_count": 19,
   "metadata": {},
   "outputs": [
    {
     "name": "stdout",
     "output_type": "stream",
     "text": [
      "0.8865480012953671\n"
     ]
    }
   ],
   "source": [
    "#2종 오류\n",
    "\n",
    "#p가 0.5라고 가정할 때, 유의수준이 5%인 구간\n",
    "lo, hi = normal_two_sided_bounds(0.95, mu_0, sigma_0)\n",
    "\n",
    "#p = 0.55인 경우의 실제 평균과 표준편차\n",
    "mu_1, sigma_1 = normal_approximation_to_binomial(1000, 0.55)\n",
    "\n",
    "#2종오류란 H0을 기각하지 못한다는 의미.\n",
    "#즉, X가 주어진 구간 안에 존재할 경우를 의미함.\n",
    "type_2_probability = normal_probability_between(lo, hi, mu_1, sigma_1)\n",
    "power = 1 - type_2_probability\n",
    "print(power)"
   ]
  },
  {
   "cell_type": "markdown",
   "metadata": {},
   "source": [
    "* 단측검정이 필요한 경우\n",
    "    -  p <= 0.5, 즉 동전이 앞면에 편향되지 않은 경우를 H0로 정한다면?\n",
    "    - X > 50이면 H0 기각, X < 50이면 기각하지 않는다(단측검정)\n",
    "    - 유의수준이 5%인 가설검정을 위해서는 normal_probability_below를 사용하여 분포의 95%가 해당 값 이하인 경계 값을 찾을 수 있다."
   ]
  },
  {
   "cell_type": "code",
   "execution_count": 24,
   "metadata": {},
   "outputs": [
    {
     "name": "stdout",
     "output_type": "stream",
     "text": [
      "526.0073585242053\n",
      "0.9363794803307173\n"
     ]
    }
   ],
   "source": [
    "hi = normal_upper_bound(0.95, mu_0, sigma_0) #\n",
    "print(hi) # hi = 526( < 531, 분포 상위 부분에 더 높은 확률을 주기 위해서)\n",
    "\n",
    "type_2_probability = normal_probability_below(hi, mu_1, sigma_1)\n",
    "power = 1 - type_2_probability   #0.936\n",
    "print(power)\n",
    "\n",
    "\n",
    "#X가 469보다 작을 때 H0를 기각하는 게 아니라(H1이 참이라면 이는 거의 발생하지 않음),\n",
    "#X가 526 ~ 531일 때 H0를 기각하기 때문에(H1이 참이라면 이는 가끔 발생함) 전보다 검정력이 더 좋아졌다고 볼 수 있음."
   ]
  },
  {
   "cell_type": "markdown",
   "metadata": {},
   "source": [
    "#### 7-3. p-value"
   ]
  },
  {
   "cell_type": "code",
   "execution_count": null,
   "metadata": {},
   "outputs": [],
   "source": []
  }
 ],
 "metadata": {
  "kernelspec": {
   "display_name": "Python 3",
   "language": "python",
   "name": "python3"
  },
  "language_info": {
   "codemirror_mode": {
    "name": "ipython",
    "version": 3
   },
   "file_extension": ".py",
   "mimetype": "text/x-python",
   "name": "python",
   "nbconvert_exporter": "python",
   "pygments_lexer": "ipython3",
   "version": "3.7.3"
  }
 },
 "nbformat": 4,
 "nbformat_minor": 2
}
