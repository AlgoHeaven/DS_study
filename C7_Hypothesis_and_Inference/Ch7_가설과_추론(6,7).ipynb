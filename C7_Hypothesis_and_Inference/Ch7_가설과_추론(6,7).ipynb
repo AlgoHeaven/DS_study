{
  "nbformat": 4,
  "nbformat_minor": 0,
  "metadata": {
    "colab": {
      "name": "Ch7_가설과_추론(6,7).ipynb",
      "provenance": [],
      "collapsed_sections": []
    },
    "kernelspec": {
      "name": "python3",
      "display_name": "Python 3"
    }
  },
  "cells": [
    {
      "cell_type": "markdown",
      "metadata": {
        "id": "hcEoC9AeINBv",
        "colab_type": "text"
      },
      "source": [
        "# 7.6 A/B Test\n",
        "---"
      ]
    },
    {
      "cell_type": "markdown",
      "metadata": {
        "id": "6gAAOodNLYi6",
        "colab_type": "text"
      },
      "source": [
        "- A/B 테스트란?\n",
        "  1. 웹 사이트 방문자를 임의로 두 집단으로 나눈다.\n",
        "  2. 한 집단에게는 기존 사이트를 보여주고 다른 집단에게는 새로운 사이트를 보여준다.\n",
        "  3. 어떤 집단이 높은 성과를 보이는지 측정.\n",
        "  4. 새 사이트가 기존 사이트에 비해 좋은지를 정량적으로 평가하는 방식\n",
        "    - 보통 회원 가입율, 재방문율, 구매전환율 등의 지표를 살펴봄\n",
        "- 하는 이유\n",
        "  - 상관관계로부터 인과관계일 가능성이 높은 것을 찾아내기 위함\n",
        "  - 모든 상관관계가 인과관계가 아니기 때문에\n",
        "  "
      ]
    },
    {
      "cell_type": "code",
      "metadata": {
        "id": "fn6M7BctQ0VX",
        "colab_type": "code",
        "colab": {}
      },
      "source": [
        "import math"
      ],
      "execution_count": 0,
      "outputs": []
    },
    {
      "cell_type": "code",
      "metadata": {
        "id": "ar_77f5pS9DU",
        "colab_type": "code",
        "colab": {}
      },
      "source": [
        "def normal_cdf(x, mu=0, sigma=1): # 정규 분포의 누적 분포 함수\n",
        "  return (1 + math.erf((x - mu)/math.sqrt(2)/sigma)) / 2\n",
        "\n",
        "# 누적 분포 함수는 확률 변수가 특정 값보다 작을 확률을 나타냄\n",
        "normal_probability_below = normal_cdf \n",
        "\n",
        "# 특정 값보다 클 확률\n",
        "def normal_probability_above(lo, mu=0, sigma=1):\n",
        "  return 1 - normal_cdf(lo, mu, sigma)"
      ],
      "execution_count": 0,
      "outputs": []
    },
    {
      "cell_type": "code",
      "metadata": {
        "id": "1_81zl3ySTE2",
        "colab_type": "code",
        "colab": {}
      },
      "source": [
        "def two_sided_p_value(x, mu=0, sigma=1):\n",
        "  if x >= mu:\n",
        "    return 2 * normal_probability_above(x, mu, sigma)\n",
        "  else:\n",
        "    return 2 * normal_probability_below(x, mu, sigma)"
      ],
      "execution_count": 0,
      "outputs": []
    },
    {
      "cell_type": "code",
      "metadata": {
        "id": "hoWFjIkPIGcZ",
        "colab_type": "code",
        "colab": {}
      },
      "source": [
        "def estimated_parameters(N, n):\n",
        "  p = n / N # 평균\n",
        "  sigma = math.sqrt(p * (1 - p) / N) # 표준편차\n",
        "  return p, sigma"
      ],
      "execution_count": 0,
      "outputs": []
    },
    {
      "cell_type": "code",
      "metadata": {
        "id": "7x_O-_CMOfJg",
        "colab_type": "code",
        "colab": {}
      },
      "source": [
        "def a_b_test(N_a,N_b,n_a,n_b):\n",
        "  p_a, sigma_a = estimated_parameters(N_a, n_a)\n",
        "  p_b, sigma_b = estimated_parameters(N_b, n_b)\n",
        "  return (p_b - p_a) / math.sqrt(sigma_a**2 + sigma_b**2)"
      ],
      "execution_count": 0,
      "outputs": []
    },
    {
      "cell_type": "code",
      "metadata": {
        "id": "f7mW4CXNQS7k",
        "colab_type": "code",
        "colab": {
          "base_uri": "https://localhost:8080/",
          "height": 34
        },
        "outputId": "a084df81-1942-4194-d71a-59f1ead2852d"
      },
      "source": [
        "z = a_b_test(1000,1000,200,180)\n",
        "print(z)"
      ],
      "execution_count": 21,
      "outputs": [
        {
          "output_type": "stream",
          "text": [
            "-1.1403464899034472\n"
          ],
          "name": "stdout"
        }
      ]
    },
    {
      "cell_type": "code",
      "metadata": {
        "id": "nEybruxrQync",
        "colab_type": "code",
        "colab": {
          "base_uri": "https://localhost:8080/",
          "height": 34
        },
        "outputId": "8e0d09f9-8aa0-4030-8a3d-791f2c9103b2"
      },
      "source": [
        "two_sided_p_value(z) # 두 광고가 동일하게 효과적일(귀무가설이 사실) 때 큰 차이가 발생할 확률\n",
        "# 5% 보다 크기 때문에 기각 불가"
      ],
      "execution_count": 22,
      "outputs": [
        {
          "output_type": "execute_result",
          "data": {
            "text/plain": [
              "0.254141976542236"
            ]
          },
          "metadata": {
            "tags": []
          },
          "execution_count": 22
        }
      ]
    },
    {
      "cell_type": "markdown",
      "metadata": {
        "id": "dl1gnm8caY_L",
        "colab_type": "text"
      },
      "source": [
        "# 7.7 베이지안 추론\n",
        "---"
      ]
    },
    {
      "cell_type": "markdown",
      "metadata": {
        "id": "DNRBDkkCairv",
        "colab_type": "text"
      },
      "source": [
        "- 확률을 바라보는 두 가지 관점\n",
        "   - eg) 주사위를 던져서 3이 나올 확률은 1/6이다.\n",
        "   1. Frequentism\n",
        "    - 1000번을 던질 경우 166번 3이 등장한다.\n",
        "    - '사건이 일어나는 장기적 확률' 의 관점.\n",
        "    - 경험적 사실만을 통해 이야기 할 수 있다.\n",
        "   2. Bayesianism\n",
        "    - 주사위를 던질 때 3이 나온다고 16.66% 확신할 수 있다.\n",
        "    - '지식이나 판단의 정도를 나타내는 수단' 의 관점.\n",
        "    - 경험적으로 얻기 힘든 사건에 대해 확률을 추정할 때 필요\n",
        "- 베이즈 정리\n",
        "  - 의의 : 알고 있는 사전 지식을 활용해서 우리가 알고 싶은 확률을 추정한다.\n",
        "  - https://sumniya.tistory.com/29 \n",
        "- 베이지안 추론\n",
        "  - 관측되지 않은 데이터에 대해 알고 있는 것으로 추론 대상에 대해 밝히는 것.\n",
        "  - 데이터의 모집단 분포가 유일하지 않다. (관측되지 않은 데이터를 다루기 때문)\n"
      ]
    },
    {
      "cell_type": "code",
      "metadata": {
        "id": "C7SgmUWgadt3",
        "colab_type": "code",
        "colab": {}
      },
      "source": [
        "# 정규화 (모든 합이 1이 되도록)\n",
        "def B(alpha, beta):\n",
        "  return (math.gamma(alpha) * math.gamma(beta)) / math.gamma(alpha + beta)\n",
        "\n",
        "def beta_pdf(x, alpha, beta):\n",
        "  if x < 0 or x > 1: # 0과 1 사이만 밀도가 있으므로\n",
        "    return 0\n",
        "  return (x**(alpha - 1) * (1 - x)**(beta - 1)) / B(alpha, beta)     "
      ],
      "execution_count": 0,
      "outputs": []
    },
    {
      "cell_type": "code",
      "metadata": {
        "id": "mVjX5gs9e2lh",
        "colab_type": "code",
        "colab": {}
      },
      "source": [
        "import numpy as np\n",
        "import random\n",
        "import matplotlib.pyplot as plt"
      ],
      "execution_count": 0,
      "outputs": []
    },
    {
      "cell_type": "code",
      "metadata": {
        "id": "_cprPhFVgH-x",
        "colab_type": "code",
        "colab": {}
      },
      "source": [
        "x = np.arange(0.0,1.0,0.01)\n",
        "# alpha = np.random.randint(1,10,100)\n",
        "# beta = np.random.randint(1,10,100)\n",
        "alpha = np.arange(1,101)\n",
        "beta = np.arange(1,101)\n",
        "pdf_list = [beta_pdf(x[i],alpha[i],beta[-i]) for i in range(100)]"
      ],
      "execution_count": 0,
      "outputs": []
    },
    {
      "cell_type": "code",
      "metadata": {
        "id": "ObWeKwmthMvR",
        "colab_type": "code",
        "colab": {
          "base_uri": "https://localhost:8080/",
          "height": 265
        },
        "outputId": "c722a723-237c-40af-af0a-68f3a2f71d0b"
      },
      "source": [
        "plt.plot(x,pdf_list)\n",
        "plt.show()"
      ],
      "execution_count": 69,
      "outputs": [
        {
          "output_type": "display_data",
          "data": {
            "image/png": "[encoded data removed]",
            "text/plain": [
              "<Figure size 432x288 with 1 Axes>"
            ]
          },
          "metadata": {
            "tags": []
          }
        }
      ]
    },
    {
      "cell_type": "code",
      "metadata": {
        "id": "wJL-EOExlvON",
        "colab_type": "code",
        "colab": {}
      },
      "source": [
        ""
      ],
      "execution_count": 0,
      "outputs": []
    }
  ]
}