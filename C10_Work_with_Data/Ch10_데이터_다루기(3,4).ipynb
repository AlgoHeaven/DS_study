{
  "nbformat": 4,
  "nbformat_minor": 0,
  "metadata": {
    "colab": {
      "name": "Ch10_데이터_다루기(3,4).ipynb",
      "provenance": [],
      "collapsed_sections": []
    },
    "kernelspec": {
      "name": "python3",
      "display_name": "Python 3"
    }
  },
  "cells": [
    {
      "cell_type": "markdown",
      "metadata": {
        "id": "DOs9gZd-awSr",
        "colab_type": "text"
      },
      "source": [
        "# 데이터 처리\n",
        "---"
      ]
    },
    {
      "cell_type": "code",
      "metadata": {
        "id": "r_puuPM1aVa3",
        "colab_type": "code",
        "colab": {}
      },
      "source": [
        "import datetime\n",
        "data = [{\n",
        "            'closing_price': 102.06,\n",
        "            'date': datetime.datetime(2014, 8, 29, 0, 0),\n",
        "            'symbol': 'AAPL'\n",
        "        },\n",
        "        {\n",
        "            'closing_price': 231.23,\n",
        "            'date': datetime.datetime(2020, 7, 13, 0, 0),\n",
        "            'symbol': 'LINUX'\n",
        "        },\n",
        "        {\n",
        "            'closing_price': 11,\n",
        "            'date': datetime.datetime(2014, 8, 29, 0, 0),\n",
        "            'symbol': 'AAPL'\n",
        "        },\n",
        "        {\n",
        "            'closing_price': 5932.342,\n",
        "            'date': datetime.datetime(2020, 2, 22, 2, 0),\n",
        "            'symbol': 'AAPL'\n",
        "        }]"
      ],
      "execution_count": 0,
      "outputs": []
    },
    {
      "cell_type": "code",
      "metadata": {
        "id": "L6m7f3QKbWdG",
        "colab_type": "code",
        "colab": {
          "base_uri": "https://localhost:8080/",
          "height": 221
        },
        "outputId": "afe91f6a-9d1f-41fb-f6ff-ed8503e91e96"
      },
      "source": [
        "data"
      ],
      "execution_count": 6,
      "outputs": [
        {
          "output_type": "execute_result",
          "data": {
            "text/plain": [
              "[{'closing_price': 102.06,\n",
              "  'date': datetime.datetime(2014, 8, 29, 0, 0),\n",
              "  'symbol': 'AAPL'},\n",
              " {'closing_price': 231.23,\n",
              "  'date': datetime.datetime(2020, 7, 13, 0, 0),\n",
              "  'symbol': 'LINUX'},\n",
              " {'closing_price': 11,\n",
              "  'date': datetime.datetime(2014, 8, 29, 0, 0),\n",
              "  'symbol': 'AAPL'},\n",
              " {'closing_price': 5932.342,\n",
              "  'date': datetime.datetime(2020, 2, 22, 2, 0),\n",
              "  'symbol': 'AAPL'}]"
            ]
          },
          "metadata": {
            "tags": []
          },
          "execution_count": 6
        }
      ]
    },
    {
      "cell_type": "code",
      "metadata": {
        "id": "FKL61KEfbbAK",
        "colab_type": "code",
        "colab": {}
      },
      "source": [
        "# APL 이 symbol 인 데이터중 max price\n",
        "max_aapl_price = max(row[\"closing_price\"] for row in data if row[\"symbol\"]==\"AAPL\")"
      ],
      "execution_count": 0,
      "outputs": []
    },
    {
      "cell_type": "code",
      "metadata": {
        "id": "Iuu0-VEeb4tT",
        "colab_type": "code",
        "colab": {
          "base_uri": "https://localhost:8080/",
          "height": 34
        },
        "outputId": "10b6dcc7-aebe-474b-9d28-bf5acf681e2c"
      },
      "source": [
        "max_aapl_price"
      ],
      "execution_count": 8,
      "outputs": [
        {
          "output_type": "execute_result",
          "data": {
            "text/plain": [
              "5932.342"
            ]
          },
          "metadata": {
            "tags": []
          },
          "execution_count": 8
        }
      ]
    },
    {
      "cell_type": "code",
      "metadata": {
        "id": "BSOiw0Kab7Mg",
        "colab_type": "code",
        "colab": {
          "base_uri": "https://localhost:8080/",
          "height": 71
        },
        "outputId": "ff79775d-9238-4ca6-b464-a03709ff0fbc"
      },
      "source": [
        "from collections import defaultdict\n",
        "\n",
        "# symbol을 기준으로 dictionary 생성\n",
        "by_symbol = defaultdict(list)\n",
        "for row in data:\n",
        "  by_symbol[row[\"symbol\"]].append(row)\n",
        "print(\"by_symbol :\",by_symbol)\n",
        "\n",
        "# 그룹마다의 max price를 저장\n",
        "max_price_by_symbol = {\n",
        "    symbol: \n",
        "      max(row[\"closing_price\"] for row in grouped_rows) \n",
        "        for symbol, grouped_rows in by_symbol.items()\n",
        "    }\n",
        "print(\"max_price_by_symbol :\",max_price_by_symbol)"
      ],
      "execution_count": 10,
      "outputs": [
        {
          "output_type": "stream",
          "text": [
            "by_symbol : defaultdict(<class 'list'>, {'AAPL': [{'closing_price': 102.06, 'date': datetime.datetime(2014, 8, 29, 0, 0), 'symbol': 'AAPL'}, {'closing_price': 11, 'date': datetime.datetime(2014, 8, 29, 0, 0), 'symbol': 'AAPL'}, {'closing_price': 5932.342, 'date': datetime.datetime(2020, 2, 22, 2, 0), 'symbol': 'AAPL'}], 'LINUX': [{'closing_price': 231.23, 'date': datetime.datetime(2020, 7, 13, 0, 0), 'symbol': 'LINUX'}]})\n",
            "max_price_by_symbol : {'AAPL': 5932.342, 'LINUX': 231.23}\n"
          ],
          "name": "stdout"
        }
      ]
    },
    {
      "cell_type": "code",
      "metadata": {
        "id": "MXDhfygveWGv",
        "colab_type": "code",
        "colab": {}
      },
      "source": [
        "def picker(field_name):  \n",
        "    return lambda row: row[field_name]\n",
        "\n",
        "def pluck(field_name, rows):\n",
        "    return map(picker(field_name), rows)"
      ],
      "execution_count": 0,
      "outputs": []
    },
    {
      "cell_type": "code",
      "metadata": {
        "id": "eislHgvDgu3Z",
        "colab_type": "code",
        "colab": {
          "base_uri": "https://localhost:8080/",
          "height": 85
        },
        "outputId": "94bab899-146c-4ba6-cc17-bd5a740bfb89"
      },
      "source": [
        "list(pluck(\"date\", data))  # data에서 date에 해당하는 필드만 가지고 와서 list로 만들어 줌"
      ],
      "execution_count": 22,
      "outputs": [
        {
          "output_type": "execute_result",
          "data": {
            "text/plain": [
              "[datetime.datetime(2014, 8, 29, 0, 0),\n",
              " datetime.datetime(2020, 7, 13, 0, 0),\n",
              " datetime.datetime(2014, 8, 29, 0, 0),\n",
              " datetime.datetime(2020, 2, 22, 2, 0)]"
            ]
          },
          "metadata": {
            "tags": []
          },
          "execution_count": 22
        }
      ]
    },
    {
      "cell_type": "code",
      "metadata": {
        "id": "kzotlw4Yg2Tx",
        "colab_type": "code",
        "colab": {}
      },
      "source": [
        "def group_by(grouper, rows, value_transform=None):\n",
        "  grouped = defaultdict(list)\n",
        "  for row in rows:\n",
        "    grouped[grouper(row)].append(row)\n",
        "  if value_transform is None:\n",
        "    return grouped\n",
        "  else:\n",
        "    return {key : value_transform(rows) for key, rows in grouped.items()}"
      ],
      "execution_count": 0,
      "outputs": []
    },
    {
      "cell_type": "code",
      "metadata": {
        "id": "d8TLFZ0klIPx",
        "colab_type": "code",
        "colab": {
          "base_uri": "https://localhost:8080/",
          "height": 34
        },
        "outputId": "9c9a6ff7-c31b-41a5-c5dc-5eee05b25b3b"
      },
      "source": [
        "group_by(picker(\"symbol\"), data, lambda rows: max(pluck(\"closing_price\", rows))) # max price group by symbol"
      ],
      "execution_count": 24,
      "outputs": [
        {
          "output_type": "execute_result",
          "data": {
            "text/plain": [
              "{'AAPL': 5932.342, 'LINUX': 231.23}"
            ]
          },
          "metadata": {
            "tags": []
          },
          "execution_count": 24
        }
      ]
    },
    {
      "cell_type": "code",
      "metadata": {
        "id": "wppmd78xlk1T",
        "colab_type": "code",
        "colab": {
          "base_uri": "https://localhost:8080/",
          "height": 238
        },
        "outputId": "ee596807-eeed-4e10-ca84-325275d83f7b"
      },
      "source": [
        "group_by(picker(\"symbol\"), data) # group by symbol"
      ],
      "execution_count": 25,
      "outputs": [
        {
          "output_type": "execute_result",
          "data": {
            "text/plain": [
              "defaultdict(list,\n",
              "            {'AAPL': [{'closing_price': 102.06,\n",
              "               'date': datetime.datetime(2014, 8, 29, 0, 0),\n",
              "               'symbol': 'AAPL'},\n",
              "              {'closing_price': 11,\n",
              "               'date': datetime.datetime(2014, 8, 29, 0, 0),\n",
              "               'symbol': 'AAPL'},\n",
              "              {'closing_price': 5932.342,\n",
              "               'date': datetime.datetime(2020, 2, 22, 2, 0),\n",
              "               'symbol': 'AAPL'}],\n",
              "             'LINUX': [{'closing_price': 231.23,\n",
              "               'date': datetime.datetime(2020, 7, 13, 0, 0),\n",
              "               'symbol': 'LINUX'}]})"
            ]
          },
          "metadata": {
            "tags": []
          },
          "execution_count": 25
        }
      ]
    },
    {
      "cell_type": "code",
      "metadata": {
        "id": "nbdfKko0lt5P",
        "colab_type": "code",
        "colab": {}
      },
      "source": [
        "def percent_price_change(yesterday, today):\n",
        "  return today[\"closing_price\"] / yesterday[\"closing_price\"] - 1\n",
        "def day_over_day_changes(grouped_rows):\n",
        "  ordered = sorted(grouped_rows, key=picker(\"date\"))\n",
        "  return [{\n",
        "      \"symbol\": today[\"symbol\"],\n",
        "      \"date\": today[\"date\"],\n",
        "      \"change\": percent_price_change(yesterday, today)} for yesterday, today in zip(ordered, ordered[1:])]"
      ],
      "execution_count": 0,
      "outputs": []
    },
    {
      "cell_type": "code",
      "metadata": {
        "id": "OMt7ZW0VnNNM",
        "colab_type": "code",
        "colab": {
          "base_uri": "https://localhost:8080/",
          "height": 136
        },
        "outputId": "facd88c5-7525-462f-b1fc-983b7d0edb95"
      },
      "source": [
        "changes_by_symbol = group_by(picker(\"symbol\"), data, day_over_day_changes)\n",
        "changes_by_symbol"
      ],
      "execution_count": 33,
      "outputs": [
        {
          "output_type": "execute_result",
          "data": {
            "text/plain": [
              "{'AAPL': [{'change': -0.8922202625906329,\n",
              "   'date': datetime.datetime(2014, 8, 29, 0, 0),\n",
              "   'symbol': 'AAPL'},\n",
              "  {'change': 538.3038181818182,\n",
              "   'date': datetime.datetime(2020, 2, 22, 2, 0),\n",
              "   'symbol': 'AAPL'}],\n",
              " 'LINUX': []}"
            ]
          },
          "metadata": {
            "tags": []
          },
          "execution_count": 33
        }
      ]
    },
    {
      "cell_type": "markdown",
      "metadata": {
        "id": "LKCxTYrYpiNY",
        "colab_type": "text"
      },
      "source": [
        "#척도조절\n",
        "---\n"
      ]
    },
    {
      "cell_type": "code",
      "metadata": {
        "id": "sjpibghFoWfT",
        "colab_type": "code",
        "colab": {}
      },
      "source": [
        "import numpy as np"
      ],
      "execution_count": 0,
      "outputs": []
    },
    {
      "cell_type": "code",
      "metadata": {
        "id": "8zbFyF_DnsD0",
        "colab_type": "code",
        "colab": {}
      },
      "source": [
        "def scale(data_matrix): # 각 열의 평균과 표준편차를 구하는 함수\n",
        "  num_rows, num_cols = np.shape(data_matrix)\n",
        "  means = [np.mean(data_matrix[:,j]) for j in range(num_cols)]\n",
        "  stdevs = [np.std(data_matrix[:,j]) for j in range(num_cols)]\n",
        "  return means, stdevs"
      ],
      "execution_count": 0,
      "outputs": []
    },
    {
      "cell_type": "code",
      "metadata": {
        "id": "Ki4HfXfvmf5E",
        "colab_type": "code",
        "colab": {}
      },
      "source": [
        "def rescale(data_matrix):\n",
        "  mean, stdevs = scale(data_matrix)\n",
        "  def rescaled(i, j, mean, stdevs): # 평균과 표준편차를 0과 1로 변환\n",
        "    if stdevs[j] > 0:\n",
        "      return (data_matrix[i][j] - mean[j])/stdevs[j]\n",
        "    else:\n",
        "      return data_matrix[i][j] # 편차가 없을 경우 그대로 유지\n",
        "  def make_matrix(nr, nc, rescaled, mean, stdevs):\n",
        "    mat = np.zeros((nr, nc))\n",
        "    for i in range(nr):\n",
        "      for j in range(nc):\n",
        "        mat[i][j] = rescaled(i, j, mean, stdevs)\n",
        "    return mat\n",
        "  num_rows, num_cols = np.shape(data_matrix)\n",
        "  return make_matrix(num_rows, num_cols, rescaled, mean, stdevs) # 0을 기준으로 scale 된 matrix"
      ],
      "execution_count": 0,
      "outputs": []
    },
    {
      "cell_type": "code",
      "metadata": {
        "id": "W4Wx_3w9oERr",
        "colab_type": "code",
        "colab": {
          "base_uri": "https://localhost:8080/",
          "height": 51
        },
        "outputId": "d7d97f03-de4a-479e-f715-c22c1c756d1b"
      },
      "source": [
        "mat = np.array([[63,160,150],[67,170.2,160],[70,177.8,171]])\n",
        "scale(mat)"
      ],
      "execution_count": 19,
      "outputs": [
        {
          "output_type": "execute_result",
          "data": {
            "text/plain": [
              "([66.66666666666667, 169.33333333333334, 160.33333333333334],\n",
              " [2.8674417556808756, 7.2926142241463925, 8.576453553512405])"
            ]
          },
          "metadata": {
            "tags": []
          },
          "execution_count": 19
        }
      ]
    },
    {
      "cell_type": "code",
      "metadata": {
        "id": "Hto1LNgCpnJj",
        "colab_type": "code",
        "colab": {
          "base_uri": "https://localhost:8080/",
          "height": 68
        },
        "outputId": "6e8f8c5f-435e-49b3-d8c8-1b76626b218e"
      },
      "source": [
        "rescale(mat)"
      ],
      "execution_count": 35,
      "outputs": [
        {
          "output_type": "execute_result",
          "data": {
            "text/plain": [
              "array([[-1.27872403, -1.27983368, -1.20484922],\n",
              "       [ 0.11624764,  0.1188417 , -0.0388661 ],\n",
              "       [ 1.16247639,  1.16099199,  1.24371532]])"
            ]
          },
          "metadata": {
            "tags": []
          },
          "execution_count": 35
        }
      ]
    },
    {
      "cell_type": "code",
      "metadata": {
        "id": "XGgLQ4uurys-",
        "colab_type": "code",
        "colab": {}
      },
      "source": [
        ""
      ],
      "execution_count": 0,
      "outputs": []
    }
  ]
}