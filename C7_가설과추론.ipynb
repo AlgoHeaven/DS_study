{
 "cells": [
  {
   "cell_type": "markdown",
   "metadata": {},
   "source": [
    "# nomal_probability로 p-value 계산전, 주어진 데이터가 정규분포인지 확인은 필수!\n",
    "\n",
    "# e.g. 데이터를 시각화하여 정규분포를 따르는 지 확인 한다던가"
   ]
  },
  {
   "cell_type": "markdown",
   "metadata": {},
   "source": [
    "7.4 신뢰구간(confidence interval)\n",
    " - (앞면이 나올 확률인 p인)동전 던지기를 예시로 했을 때, p는 앞면이 나올 미지의 분포를 나타내는 파라미터\n",
    " - 사건에 대한 분포를 모른다면 -> 관측 값에 대한 신뢰구간을 사용하여 가설 검정 가능"
   ]
  },
  {
   "cell_type": "markdown",
   "metadata": {},
   "source": [
    "e.g. 공평치 않는 동전에 대한 확률에서 앞면1, 뒷면0\n",
    "\n",
    "베르누이 확률 변수의 평군을 이용하여 추정 가능.\n",
    "\n",
    "만약 동전을 1000번 던져서 앞면이 525번 나오면, p = 0.525로 추정 가능\n",
    "\n",
    "math.sqrt(p * (1-p)/1000)"
   ]
  },
  {
   "cell_type": "code",
   "execution_count": 20,
   "metadata": {},
   "outputs": [
    {
     "data": {
      "text/plain": [
       "True"
      ]
     },
     "execution_count": 20,
     "metadata": {},
     "output_type": "execute_result"
    }
   ],
   "source": [
    "p_hat = 525/1000\n",
    "mu = p_hat\n",
    "sigma = math.sqrt(p_hat * (1-p_hat)/1000)\n",
    "\n",
    "lower, upper = normal_two_sided_bounds(0.95, mu, sigma)\n",
    "\n",
    "lower < 0.5  < upper"
   ]
  },
  {
   "cell_type": "code",
   "execution_count": 21,
   "metadata": {},
   "outputs": [
    {
     "data": {
      "text/plain": [
       "(0.4940490278129096, 0.5559509721870904)"
      ]
     },
     "execution_count": 21,
     "metadata": {},
     "output_type": "execute_result"
    }
   ],
   "source": [
    "# 정규분포의 근사를 사용시, 진짜 p가 다음 구간안에 포함되어 있을거라는 '95%확신'가능\n",
    "normal_two_sided_bounds(0.95, mu, sigma)\n",
    "# 위 의 경우, 0.5는 신뢰구간 안에 있기 떄문에, 동전은 공평하지 않다고 결론을 내릴 수 x"
   ]
  },
  {
   "cell_type": "code",
   "execution_count": 22,
   "metadata": {},
   "outputs": [
    {
     "data": {
      "text/plain": [
       "False"
      ]
     },
     "execution_count": 22,
     "metadata": {},
     "output_type": "execute_result"
    }
   ],
   "source": [
    "# 반대로, 앞면이 540번이라면\n",
    "p_hat = 540 / 1000\n",
    "mu = p_hat\n",
    "sigma = math.sqrt(p_hat * (1 - p_hat) / 1000)\n",
    "normal_two_sided_bounds(0.95, mu, sigma)\n",
    "\n",
    "lower, upper = normal_two_sided_bounds(0.95, mu, sigma)\n",
    "\n",
    "lower < 0.5  < upper\n",
    "\n",
    "# '공평한 동전' 에 대한 확률은 계산된 신뢰구간 밖에 존재.\n",
    "# 공평한 동전이라는 가설은, 가설이 참이라면 모든 경우의 95%에 대해 참인 가설검정을 통과하지x"
   ]
  },
  {
   "cell_type": "markdown",
   "metadata": {},
   "source": [
    "7.5 p-value 해킹\n",
    "귀무가설을 잘못 기가하는 경우가 5%인 가설검정은 정의에서 알 수 있듯,\n",
    "\n",
    "모든 경우의 5%에서 귀무가설을 잘못 기각"
   ]
  },
  {
   "cell_type": "code",
   "execution_count": 25,
   "metadata": {},
   "outputs": [
    {
     "name": "stdout",
     "output_type": "stream",
     "text": [
      "46\n"
     ]
    }
   ],
   "source": [
    "def run_experiment():\n",
    "    # 동전 1000번 던져, True = 앞면, False = 뒷면\n",
    "    return [random.random() < 0.5 for _ in range(1000)]\n",
    "\n",
    "def reject_fairness(experiment):\n",
    "    # 유의수준 5%\n",
    "    num_heads = len([flip for flip in experiment if flip])\n",
    "    return num_heads < 469 or num_heads > 531\n",
    "\n",
    "random.seed(0)\n",
    "experiments = [run_experiment() for _ in range(1000)]\n",
    "num_rejections = len([experiment\n",
    "                     for experiment in experiments\n",
    "                     if reject_fairness(experiment)])\n",
    "print(num_rejections)"
   ]
  },
  {
   "cell_type": "markdown",
   "metadata": {},
   "source": [
    "'의미 있는' 결과를 찾으려고 '노력'한다면 보통 의미 있는 결과를 찾을 수 있다.\n",
    "p-value의 관점에서 추론을 하면 'p-value 해킹'이 발생할 수 있다.\n",
    "\n",
    "중요 포인트 세가지\n",
    "    1. 가설은 데이터를 보기 전에 세운다.\n",
    "    2. 데이터 처리시 세운 가설은 잠시 잊는다.\n",
    "    3. p-value가 전부가 아니다. (베이지안 추론 사용 가능)"
   ]
  },
  {
   "cell_type": "markdown",
   "metadata": {},
   "source": [
    "Reference :\n",
    "\n",
    "밑바닥부터 시작하는 데이터과학 7장,\n",
    "https://github.com/newhiwoong/DATA_SCIENCE_FROM_SCRATCH"
   ]
  }
 ],
 "metadata": {
  "kernelspec": {
   "display_name": "Python 3",
   "language": "python",
   "name": "python3"
  },
  "language_info": {
   "codemirror_mode": {
    "name": "ipython",
    "version": 3
   },
   "file_extension": ".py",
   "mimetype": "text/x-python",
   "name": "python",
   "nbconvert_exporter": "python",
   "pygments_lexer": "ipython3",
   "version": "3.6.5"
  }
 },
 "nbformat": 4,
 "nbformat_minor": 2
}
