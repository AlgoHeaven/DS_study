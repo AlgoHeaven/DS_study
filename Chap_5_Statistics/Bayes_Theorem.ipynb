{
  "nbformat": 4,
  "nbformat_minor": 0,
  "metadata": {
    "colab": {
      "name": "Bayes_Theorem.ipynb",
      "provenance": [],
      "collapsed_sections": []
    },
    "kernelspec": {
      "name": "python3",
      "display_name": "Python 3"
    }
  },
  "cells": [
    {
      "cell_type": "markdown",
      "metadata": {
        "id": "1Rk0-KNAPmyh",
        "colab_type": "text"
      },
      "source": [
        "# 6.3. 베이즈 정리"
      ]
    },
    {
      "cell_type": "markdown",
      "metadata": {
        "id": "SbTq-MIBVloQ",
        "colab_type": "text"
      },
      "source": [
        "## 공식 및 이론\n",
        "---"
      ]
    },
    {
      "cell_type": "markdown",
      "metadata": {
        "id": "8v8ToCBxPvPo",
        "colab_type": "text"
      },
      "source": [
        "- 조건부 확률을 뒤집는다.\n",
        "- P(E|F)가 필요한 상황에 P(F|E)만 주어질 경우 다음과 같이 변환 가능\n",
        "\n",
        "$$ P(E|F) = {P(E,F) \\over P(F)} = {P(F|E)P(E) \\over P(F)} $$"
      ]
    },
    {
      "cell_type": "markdown",
      "metadata": {
        "id": "d_Ze_PWURSyb",
        "colab_type": "text"
      },
      "source": [
        "- 사건 F를 두 사건으로 나눠서 나타낼 수 있다.\n",
        "  1. 사건 F와 E가 모두 발생\n",
        "  2. 사건 F가 발생하고 E는 발생하지 않음\n",
        "\n",
        "$$ P(F) = P(F,E) + P(F,\\neg E)$$"
      ]
    },
    {
      "cell_type": "markdown",
      "metadata": {
        "id": "Y6MZIfdWSiSe",
        "colab_type": "text"
      },
      "source": [
        "- 최종적으로 다음과 같이 나타낼 수 있다.\n",
        "\n",
        "$$ P(E|F) = {{P(F|E)P(E)} \\over {P(F|E)P(E) + P(F|\\neg E)P(\\neg E)}}$$"
      ]
    },
    {
      "cell_type": "markdown",
      "metadata": {
        "id": "JoUZ56q8Vjnm",
        "colab_type": "text"
      },
      "source": [
        "## 예시\n",
        "---"
      ]
    },
    {
      "cell_type": "markdown",
      "metadata": {
        "id": "weYEexrzVL3O",
        "colab_type": "text"
      },
      "source": [
        "- 10000명 중 1명이 걸리는 질병이 있다.\n",
        "- 질병에 대해 \"양성\" 또는 \"음성\"의 판단을 내리는 검사가 있다.\n",
        "- 검사의 정확도는 99% 이다."
      ]
    },
    {
      "cell_type": "code",
      "metadata": {
        "id": "9mQi-7sUPcSS",
        "colab_type": "code",
        "colab": {
          "base_uri": "https://localhost:8080/",
          "height": 34
        },
        "outputId": "b411f4cc-25fc-4a40-823c-c2a39747ed5f"
      },
      "source": [
        "# P(T) : 양성 판정을 받을 확률\n",
        "# P(D) : 질병에 걸릴 확률\n",
        "# P(D) = 0.0001\n",
        "# P(¬D) = 1 - P(D)\n",
        "# P(T|D) = 0.99\n",
        "# P(T|¬D) = 1 - P(T|D)\n",
        "\n",
        "# P(D|T) 구하기\n",
        "\n",
        "pD = 0.0001\n",
        "pnD = 1 - pD\n",
        "conTD = 0.99\n",
        "conTnD = 1 - conTD\n",
        "\n",
        "conDT = (conTD*pD)/((conTD*pD) + (conTnD*pnD))\n",
        "print(\"{:.2f}%\".format(conDT*100)) # 양성 판정을 받은 사람이 질병에 걸렸을 확률이 1%도 안됨 -> 검사의 정확도로 알 수 없던 정보를 알 수 있다."
      ],
      "execution_count": 6,
      "outputs": [
        {
          "output_type": "stream",
          "text": [
            "0.98%\n"
          ],
          "name": "stdout"
        }
      ]
    }
  ]
}