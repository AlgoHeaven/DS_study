{
  "nbformat": 4,
  "nbformat_minor": 0,
  "metadata": {
    "colab": {
      "name": "Random_Variable.ipynb",
      "provenance": [],
      "collapsed_sections": []
    },
    "kernelspec": {
      "name": "python3",
      "display_name": "Python 3"
    }
  },
  "cells": [
    {
      "cell_type": "markdown",
      "metadata": {
        "id": "RhgoLF7MZAIt",
        "colab_type": "text"
      },
      "source": [
        "# 6.4 확률변수 (Random Variable)"
      ]
    },
    {
      "cell_type": "markdown",
      "metadata": {
        "id": "tNsupofiZGh-",
        "colab_type": "text"
      },
      "source": [
        "## 공식 및 이론\n",
        "---"
      ]
    },
    {
      "cell_type": "markdown",
      "metadata": {
        "id": "niOhxYo-ZJZU",
        "colab_type": "text"
      },
      "source": [
        "- 특정 확률 분포와 연관되어 있는 변수\n",
        "- 동전 던지기의 경우\n",
        "  - 확률변수를 X라고 할 때\n",
        "  - 확률변수의 값이 0일 확률은 0.5\n",
        "  - 확률변수의 값이 1일 확률은 0.5"
      ]
    },
    {
      "cell_type": "markdown",
      "metadata": {
        "id": "AYaf4CAmakvc",
        "colab_type": "text"
      },
      "source": [
        "## 예시\n",
        "---"
      ]
    },
    {
      "cell_type": "markdown",
      "metadata": {
        "id": "aZmozZgaan2r",
        "colab_type": "text"
      },
      "source": [
        "- Conditional_Probability의 예시를 사용\n",
        "- 확률변수 X : 딸의 수\n",
        "  - 0일 확률 : 1/4 (b,b)\n",
        "  - 1일 확률 : 1/2 (g,b)(b,g)\n",
        "  - 2일 확률 : 1/4 (g,g)"
      ]
    },
    {
      "cell_type": "code",
      "metadata": {
        "id": "PINUNTUNY7l3",
        "colab_type": "code",
        "colab": {
          "base_uri": "https://localhost:8080/",
          "height": 52
        },
        "outputId": "1604b998-5775-483e-b3e6-10eb3fe8b557"
      },
      "source": [
        "# Y : 딸이 최소 한 명일 때 전체 딸의 수\n",
        "# L : 딸이 최소 한 명일 경우 # X1 + X2\n",
        "# P(Y|L) = P(Y,L)/P(L) = P(Y)/P(L)\n",
        "\n",
        "X = [0.25, 0.5, 0.25]\n",
        "L = X[1] + X[2]\n",
        "\n",
        "## Y가 1일 확률\n",
        "Y1 = X[1]/L\n",
        "print(\"Y가 1일 확률 : \",Y1) # 2/3\n",
        "\n",
        "## Y가 2일 확률\n",
        "Y2 = X[2]/L\n",
        "print(\"Y가 2일 확률 : \",Y2) # 1/3"
      ],
      "execution_count": 2,
      "outputs": [
        {
          "output_type": "stream",
          "text": [
            "Y가 1일 확률 :  0.6666666666666666\n",
            "Y가 2일 확률 :  0.3333333333333333\n"
          ],
          "name": "stdout"
        }
      ]
    }
  ]
}